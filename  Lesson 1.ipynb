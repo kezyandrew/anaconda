{
 "cells": [
  {
   "cell_type": "code",
   "execution_count": 1,
   "id": "2ac34c78",
   "metadata": {},
   "outputs": [],
   "source": [
    "# DATA YTPES\n",
    "# Integers - numbers 1,2,3...\n",
    "# Floats - numbers with decimals places eg 2.3, 3.1 \n",
    "# Strings - Words without numbers\n",
    "# boolean - True or false situations, yes or no, postive or negative. \n"
   ]
  },
  {
   "cell_type": "code",
   "execution_count": 2,
   "id": "36639295",
   "metadata": {},
   "outputs": [
    {
     "data": {
      "text/plain": [
       "16"
      ]
     },
     "execution_count": 2,
     "metadata": {},
     "output_type": "execute_result"
    }
   ],
   "source": [
    "# Declare value\n",
    "y=10\n",
    "z=6\n",
    "y+z"
   ]
  },
  {
   "cell_type": "code",
   "execution_count": 6,
   "id": "8d535882",
   "metadata": {},
   "outputs": [
    {
     "data": {
      "text/plain": [
       "9.2"
      ]
     },
     "execution_count": 6,
     "metadata": {},
     "output_type": "execute_result"
    }
   ],
   "source": [
    "b=4.1\n",
    "c=5.1\n",
    "b+c"
   ]
  },
  {
   "cell_type": "code",
   "execution_count": 8,
   "id": "b64e6848",
   "metadata": {},
   "outputs": [
    {
     "data": {
      "text/plain": [
       "'Excelprince'"
      ]
     },
     "execution_count": 8,
     "metadata": {},
     "output_type": "execute_result"
    }
   ],
   "source": [
    "x='Excel'\n",
    "y= 'prince'\n",
    "x+y"
   ]
  },
  {
   "cell_type": "code",
   "execution_count": 9,
   "id": "cace39c9",
   "metadata": {},
   "outputs": [
    {
     "name": "stdout",
     "output_type": "stream",
     "text": [
      "19\n"
     ]
    }
   ],
   "source": [
    "y=10\n",
    "z=9\n",
    "x=y+z\n",
    "print(x)"
   ]
  },
  {
   "cell_type": "code",
   "execution_count": 1,
   "id": "603000c9",
   "metadata": {},
   "outputs": [
    {
     "name": "stdout",
     "output_type": "stream",
     "text": [
      "enter y10\n",
      "enter x8\n",
      "18\n"
     ]
    }
   ],
   "source": [
    "y=input('enter y')\n",
    "x=input('enter x') \n",
    "z=int(y) + int(x)\n",
    "print(z)\n"
   ]
  },
  {
   "cell_type": "code",
   "execution_count": 2,
   "id": "93aa087d",
   "metadata": {},
   "outputs": [
    {
     "name": "stdout",
     "output_type": "stream",
     "text": [
      "enter fHello\n",
      "enter m Excel\n",
      "Hello Excel\n"
     ]
    }
   ],
   "source": [
    "f=input('enter f')\n",
    "m=input('enter m')\n",
    "p=f+m\n",
    "print(p)"
   ]
  }
 ],
 "metadata": {
  "kernelspec": {
   "display_name": "Python 3 (ipykernel)",
   "language": "python",
   "name": "python3"
  },
  "language_info": {
   "codemirror_mode": {
    "name": "ipython",
    "version": 3
   },
   "file_extension": ".py",
   "mimetype": "text/x-python",
   "name": "python",
   "nbconvert_exporter": "python",
   "pygments_lexer": "ipython3",
   "version": "3.9.12"
  }
 },
 "nbformat": 4,
 "nbformat_minor": 5
}

{
 "cells": [
  {
   "cell_type": "code",
   "execution_count": 1,
   "id": "ca3e50d5",
   "metadata": {},
   "outputs": [
    {
     "name": "stdout",
     "output_type": "stream",
     "text": [
      "enter c28\n",
      "82.4\n"
     ]
    }
   ],
   "source": [
    "x=32\n",
    "y=float(1.8)\n",
    "c=input('enter c')\n",
    "f=(y*int(c))+x\n",
    "print(f)"
   ]
  },
  {
   "cell_type": "code",
   "execution_count": 1,
   "id": "1949bf57",
   "metadata": {},
   "outputs": [
    {
     "name": "stdout",
     "output_type": "stream",
     "text": [
      "enter md200\n",
      "enter gg34\n",
      "5.882352941176471\n"
     ]
    }
   ],
   "source": [
    "md=input('enter md')\n",
    "gg=input('enter gg')\n",
    "mdg=int(md)/int(gg)\n",
    "print(mdg)"
   ]
  },
  {
   "cell_type": "code",
   "execution_count": 2,
   "id": "cd076688",
   "metadata": {},
   "outputs": [
    {
     "name": "stdout",
     "output_type": "stream",
     "text": [
      "enter r^225\n",
      "104.405\n"
     ]
    }
   ],
   "source": [
    "r=input('enter r^2')\n",
    "π=3.14\n",
    "z=float(1.33)\n",
    "v=z*(π*int(r))\n",
    "print(v)\n",
    "     "
   ]
  },
  {
   "cell_type": "code",
   "execution_count": null,
   "id": "b1aadabc",
   "metadata": {},
   "outputs": [],
   "source": []
  }
 ],
 "metadata": {
  "kernelspec": {
   "display_name": "Python 3 (ipykernel)",
   "language": "python",
   "name": "python3"
  },
  "language_info": {
   "codemirror_mode": {
    "name": "ipython",
    "version": 3
   },
   "file_extension": ".py",
   "mimetype": "text/x-python",
   "name": "python",
   "nbconvert_exporter": "python",
   "pygments_lexer": "ipython3",
   "version": "3.9.12"
  }
 },
 "nbformat": 4,
 "nbformat_minor": 5
}
